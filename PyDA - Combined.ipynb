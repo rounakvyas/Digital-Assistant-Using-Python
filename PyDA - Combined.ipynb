{
 "cells": [
  {
   "cell_type": "code",
   "execution_count": null,
   "metadata": {},
   "outputs": [],
   "source": [
    "import wikipedia\n",
    "import wolframalpha"
   ]
  },
  {
   "cell_type": "code",
   "execution_count": null,
   "metadata": {},
   "outputs": [],
   "source": [
    "while(True):\n",
    "    print(\"Question: \")\n",
    "    ques_input = input()\n",
    "    \n",
    "    try:\n",
    "        #wolframalpha\n",
    "        app_id = \"HRK3QL-PL3JWX8YGQ\"\n",
    "        client = wolframalpha.Client(app_id)\n",
    "        res = client.query(ques_input)\n",
    "        ans = next(res.results).text\n",
    "        print(ans)\n",
    "    except:\n",
    "        #wikipedia\n",
    "        print(wikipedia.summary(ques_input, sentences=4))\n",
    "        "
   ]
  },
  {
   "cell_type": "code",
   "execution_count": null,
   "metadata": {},
   "outputs": [],
   "source": []
  }
 ],
 "metadata": {
  "kernelspec": {
   "display_name": "Python 3",
   "language": "python",
   "name": "python3"
  },
  "language_info": {
   "codemirror_mode": {
    "name": "ipython",
    "version": 3
   },
   "file_extension": ".py",
   "mimetype": "text/x-python",
   "name": "python",
   "nbconvert_exporter": "python",
   "pygments_lexer": "ipython3",
   "version": "3.7.3"
  }
 },
 "nbformat": 4,
 "nbformat_minor": 4
}
