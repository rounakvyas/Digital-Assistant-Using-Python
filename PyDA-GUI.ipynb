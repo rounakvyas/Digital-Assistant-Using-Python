{
 "cells": [
  {
   "cell_type": "code",
   "execution_count": 1,
   "metadata": {},
   "outputs": [],
   "source": [
    "import wx\n",
    "import wikipedia\n",
    "import wolframalpha"
   ]
  },
  {
   "cell_type": "code",
   "execution_count": 3,
   "metadata": {},
   "outputs": [
    {
     "ename": "PyNoAppError",
     "evalue": "The wx.App object must be created first!",
     "output_type": "error",
     "traceback": [
      "\u001b[0;31m---------------------------------------------------------------------------\u001b[0m",
      "\u001b[0;31mPyNoAppError\u001b[0m                              Traceback (most recent call last)",
      "\u001b[0;32m<ipython-input-3-b2b03428f7d6>\u001b[0m in \u001b[0;36m<module>\u001b[0;34m\u001b[0m\n\u001b[1;32m     23\u001b[0m \u001b[0;32mif\u001b[0m \u001b[0m__name__\u001b[0m \u001b[0;34m==\u001b[0m \u001b[0;34m\"__main__\"\u001b[0m\u001b[0;34m:\u001b[0m\u001b[0;34m\u001b[0m\u001b[0;34m\u001b[0m\u001b[0m\n\u001b[1;32m     24\u001b[0m     \u001b[0mapp\u001b[0m \u001b[0;34m=\u001b[0m \u001b[0mwx\u001b[0m\u001b[0;34m.\u001b[0m\u001b[0mApp\u001b[0m\u001b[0;34m(\u001b[0m\u001b[0;32mTrue\u001b[0m\u001b[0;34m)\u001b[0m\u001b[0;34m\u001b[0m\u001b[0;34m\u001b[0m\u001b[0m\n\u001b[0;32m---> 25\u001b[0;31m     \u001b[0mframe\u001b[0m \u001b[0;34m=\u001b[0m \u001b[0mMyFrame\u001b[0m\u001b[0;34m(\u001b[0m\u001b[0;34m)\u001b[0m\u001b[0;34m\u001b[0m\u001b[0;34m\u001b[0m\u001b[0m\n\u001b[0m\u001b[1;32m     26\u001b[0m     \u001b[0mapp\u001b[0m\u001b[0;34m.\u001b[0m\u001b[0mMainLoop\u001b[0m\u001b[0;34m(\u001b[0m\u001b[0;34m)\u001b[0m\u001b[0;34m\u001b[0m\u001b[0;34m\u001b[0m\u001b[0m\n",
      "\u001b[0;32m<ipython-input-3-b2b03428f7d6>\u001b[0m in \u001b[0;36m__init__\u001b[0;34m(self)\u001b[0m\n\u001b[1;32m      3\u001b[0m         wx.Frame.__init__(self, None, pos=wx.DefaultPosition, size=wx.Size(450,100), \n\u001b[1;32m      4\u001b[0m                           \u001b[0mstyle\u001b[0m\u001b[0;34m=\u001b[0m\u001b[0mwx\u001b[0m\u001b[0;34m.\u001b[0m\u001b[0mMINIMIZE_BOX\u001b[0m \u001b[0;34m|\u001b[0m \u001b[0mwx\u001b[0m\u001b[0;34m.\u001b[0m\u001b[0mSYSTEM_MENU\u001b[0m \u001b[0;34m|\u001b[0m \u001b[0mwx\u001b[0m\u001b[0;34m.\u001b[0m\u001b[0mCAPTION\u001b[0m \u001b[0;34m|\u001b[0m \u001b[0mwx\u001b[0m\u001b[0;34m.\u001b[0m\u001b[0mCLOSE_BOX\u001b[0m \u001b[0;34m|\u001b[0m \u001b[0mwx\u001b[0m\u001b[0;34m.\u001b[0m\u001b[0mCLIP_CHILDREN\u001b[0m\u001b[0;34m,\u001b[0m\u001b[0;34m\u001b[0m\u001b[0;34m\u001b[0m\u001b[0m\n\u001b[0;32m----> 5\u001b[0;31m                          title=\"Python Digital Assistant\")\n\u001b[0m\u001b[1;32m      6\u001b[0m         \u001b[0mpanel\u001b[0m \u001b[0;34m=\u001b[0m \u001b[0mwx\u001b[0m\u001b[0;34m.\u001b[0m\u001b[0mPanel\u001b[0m\u001b[0;34m(\u001b[0m\u001b[0mself\u001b[0m\u001b[0;34m)\u001b[0m\u001b[0;34m\u001b[0m\u001b[0;34m\u001b[0m\u001b[0m\n\u001b[1;32m      7\u001b[0m         \u001b[0mmy_sizer\u001b[0m \u001b[0;34m=\u001b[0m \u001b[0mwx\u001b[0m\u001b[0;34m.\u001b[0m\u001b[0mBoxSizer\u001b[0m\u001b[0;34m(\u001b[0m\u001b[0mwx\u001b[0m\u001b[0;34m.\u001b[0m\u001b[0mVERTICAL\u001b[0m\u001b[0;34m)\u001b[0m\u001b[0;34m\u001b[0m\u001b[0;34m\u001b[0m\u001b[0m\n",
      "\u001b[0;31mPyNoAppError\u001b[0m: The wx.App object must be created first!"
     ]
    }
   ],
   "source": [
    "class MyFrame(wx.Frame):\n",
    "    def __init__(self):\n",
    "        wx.Frame.__init__(self, None, pos=wx.DefaultPosition, size=wx.Size(450,100), \n",
    "                          style=wx.MINIMIZE_BOX | wx.SYSTEM_MENU | wx.CAPTION | wx.CLOSE_BOX | wx.CLIP_CHILDREN,\n",
    "                         title=\"Python Digital Assistant\")\n",
    "        panel = wx.Panel(self)\n",
    "        my_sizer = wx.BoxSizer(wx.VERTICAL)\n",
    "        lbl = wx.StaticText(panel, \n",
    "                           label=\"Hello, I'm PyDA, Python Digital Assistant. How can I help you?\")\n",
    "        my_sizer.Add(lbl, 0, wx.ALL, 5)\n",
    "        self.txt = wx.TextCtrl(panel, style=wx.TE_PROCESS_ENTER, size=(400,30))\n",
    "        self.txt.SetFocus()\n",
    "        self.txt.Bind(wx.EVT_TEXT_ENTER, self.OnEnter)\n",
    "        my_sizer.Add(self.txt, 0, wx.ALL, 5)\n",
    "        panel.SetSizer(my_sizer)\n",
    "        self.Show()\n",
    "    \n",
    "    def OnEnter(self, event):\n",
    "        ques_input = self.txt.GetValue()\n",
    "        ques_input = ques_input.lower()\n",
    "        try:\n",
    "            #wolframalpha\n",
    "            app_id = \"HRK3QL-PL3JWX8YGQ\"\n",
    "            client = wolframalpha.Client(app_id)\n",
    "            res = client.query(ques_input)\n",
    "            ans = next(res.results).text\n",
    "            print(ans)\n",
    "        except:\n",
    "            #wikipedia\n",
    "            ques_input = ques_input.split(' ')\n",
    "            ques_input - \" \".join([2:])\n",
    "            print(wikipedia.summary(ques_input, sentences=4))\n",
    "        \n",
    "if __name__ == \"__main__\":\n",
    "    app = wx.App(True)\n",
    "    frame = MyFrame()\n",
    "    app.MainLoop()"
   ]
  },
  {
   "cell_type": "code",
   "execution_count": null,
   "metadata": {},
   "outputs": [],
   "source": []
  }
 ],
 "metadata": {
  "kernelspec": {
   "display_name": "Python 3",
   "language": "python",
   "name": "python3"
  },
  "language_info": {
   "codemirror_mode": {
    "name": "ipython",
    "version": 3
   },
   "file_extension": ".py",
   "mimetype": "text/x-python",
   "name": "python",
   "nbconvert_exporter": "python",
   "pygments_lexer": "ipython3",
   "version": "3.7.3"
  }
 },
 "nbformat": 4,
 "nbformat_minor": 4
}
